{
 "cells": [
  {
   "cell_type": "markdown",
   "metadata": {},
   "source": [
    "# Mnesajes CFO - Campaña Mail"
   ]
  },
  {
   "cell_type": "code",
   "execution_count": 1,
   "metadata": {},
   "outputs": [],
   "source": [
    "# Librerias \n",
    "from email.mime.multipart import MIMEMultipart\n",
    "from email.mime.image import MIMEImage\n",
    "from email.mime.text import MIMEText\n",
    "from email.mime.base import MIMEBase\n",
    "from email import encoders\n",
    "import pandas as pd\n",
    "import numpy as np\n",
    "import smtplib\n",
    "import pyodbc"
   ]
  },
  {
   "cell_type": "markdown",
   "metadata": {},
   "source": [
    "## Cargando las bases de los correos"
   ]
  },
  {
   "cell_type": "code",
   "execution_count": 2,
   "metadata": {},
   "outputs": [
    {
     "name": "stderr",
     "output_type": "stream",
     "text": [
      "d:\\ProgramData\\Anaconda3\\lib\\site-packages\\pandas\\io\\sql.py:761: UserWarning: pandas only support SQLAlchemy connectable(engine/connection) ordatabase string URI or sqlite3 DBAPI2 connectionother DBAPI2 objects are not tested, please consider using SQLAlchemy\n",
      "  warnings.warn(\n"
     ]
    },
    {
     "data": {
      "text/html": [
       "<div>\n",
       "<style scoped>\n",
       "    .dataframe tbody tr th:only-of-type {\n",
       "        vertical-align: middle;\n",
       "    }\n",
       "\n",
       "    .dataframe tbody tr th {\n",
       "        vertical-align: top;\n",
       "    }\n",
       "\n",
       "    .dataframe thead th {\n",
       "        text-align: right;\n",
       "    }\n",
       "</style>\n",
       "<table border=\"1\" class=\"dataframe\">\n",
       "  <thead>\n",
       "    <tr style=\"text-align: right;\">\n",
       "      <th></th>\n",
       "      <th>d_email</th>\n",
       "    </tr>\n",
       "  </thead>\n",
       "  <tbody>\n",
       "    <tr>\n",
       "      <th>1889</th>\n",
       "      <td>ZENTENODARILH33@GMAIL.COM</td>\n",
       "    </tr>\n",
       "    <tr>\n",
       "      <th>1890</th>\n",
       "      <td>ZOILADULCEYEYA@GMAIL.COM</td>\n",
       "    </tr>\n",
       "    <tr>\n",
       "      <th>1891</th>\n",
       "      <td>ZTITOANGEL@GMAIL.COM</td>\n",
       "    </tr>\n",
       "    <tr>\n",
       "      <th>1892</th>\n",
       "      <td>ZULE.SIV.CH@GMAIL.COM</td>\n",
       "    </tr>\n",
       "    <tr>\n",
       "      <th>1893</th>\n",
       "      <td>ZULIVON@HOTMAIL.COM</td>\n",
       "    </tr>\n",
       "  </tbody>\n",
       "</table>\n",
       "</div>"
      ],
      "text/plain": [
       "                        d_email\n",
       "1889  ZENTENODARILH33@GMAIL.COM\n",
       "1890   ZOILADULCEYEYA@GMAIL.COM\n",
       "1891       ZTITOANGEL@GMAIL.COM\n",
       "1892      ZULE.SIV.CH@GMAIL.COM\n",
       "1893        ZULIVON@HOTMAIL.COM"
      ]
     },
     "execution_count": 2,
     "metadata": {},
     "output_type": "execute_result"
    }
   ],
   "source": [
    "# Conexion BTBDMD00\n",
    "\n",
    "DMD = pyodbc.connect('''   Driver={SQL Server Native Client 11.0};\n",
    "                            Server=BTBDMD00;\n",
    "                            Database=master;\n",
    "                            Trusted_Connection=yes;                 ''')\n",
    "Q1=( '''\n",
    "SELECT DISTINCT d_email\n",
    "FROM BD_DATA_CANALES_2.cfi.PILOTO_SEGMENTOS\n",
    "WHERE CATEGORIA_COLOR='ROSADO_MAIL' and GRUPO_EXPERIMENTO='TRATAMIENTO' AND FLG_EMAIL=1 AND PERIODO_MUESTRA='202208' AND\n",
    "\t  d_email not in ('','.','@','1234@HOTMAIL.OCM','XXX@XXX','XXN@GMAIL.COM'\n",
    ",'XXX@GMAI..COM'\n",
    ",'LA PAZ'\n",
    ",'LPZ'\n",
    ",'SANTA CRUZ'\n",
    ",'COCHABAMBA'\n",
    ",'UV 56 MZ.39 BRR.LA COSTANERA'\n",
    ",'XXX@GMAIL.COM'\n",
    ",'XXX@HOTMAIL.COM'\n",
    ",'XXX@XXX'\n",
    ",'AV.2 DE AGOSTO CALLE 2 MZ.30 BRR.30 DE AGOSTO UV 195  Z 8 AN'\n",
    ",'AV.MOSCU CALLE ESTONIA UV 108 MZ.23 BRR.SAN ANTONIO'\n",
    ",'CA.A GALLARDO N.1229 INDABURO'\n",
    ",'CA.HEROES DEL BOQUERON BRR.SAN PEDRO Z. SAN PEDRO'\n",
    ",'CA.INNOMINADA N.0 BRR.SANTA ROSA Z. OESTE'\n",
    ",'XXX@XXX.COM'\n",
    ",'XXX@XXXXX'\n",
    ",'XXX@XXXXXXXXXXXXXX'\n",
    ",'XXXX@XXXXXXXX'\n",
    ",'XXXXX@GMAIL.COM'\n",
    ",'XXXXXX@GMAIL.COM'\n",
    ",'XXXXXXX@XXXX'\n",
    ",'XXXXXXX@XXXXXXX'\n",
    ",'XXXXXXXXXX@XXXXXXX'\n",
    ",'XXXXXXXXXX@XXXXXXXX'\n",
    ",'XXXXXXXXXXX@XXXXXXXXXX'\n",
    ",'XXXXXXXXXXX@XXXXXXXXXXX'\n",
    ",'XXXXXXXXXXX@XXXXXXXXXXXX'\n",
    ",'XXXXXXXXXXXX@XXXXXXXXXX',\n",
    "'X'\n",
    ",'12345@GAMAIL.COM'\n",
    ",'12345@GMAIL.COM'\n",
    ",'12345@HOTMAIL.COM')\n",
    "                    ''')\n",
    "\n",
    "BD_PILOTO = pd.read_sql(Q1,DMD)\n",
    "DMD.close()\n",
    "\n",
    "BD_PILOTO.tail()"
   ]
  },
  {
   "cell_type": "code",
   "execution_count": 3,
   "metadata": {},
   "outputs": [
    {
     "data": {
      "text/html": [
       "<div>\n",
       "<style scoped>\n",
       "    .dataframe tbody tr th:only-of-type {\n",
       "        vertical-align: middle;\n",
       "    }\n",
       "\n",
       "    .dataframe tbody tr th {\n",
       "        vertical-align: top;\n",
       "    }\n",
       "\n",
       "    .dataframe thead th {\n",
       "        text-align: right;\n",
       "    }\n",
       "</style>\n",
       "<table border=\"1\" class=\"dataframe\">\n",
       "  <thead>\n",
       "    <tr style=\"text-align: right;\">\n",
       "      <th></th>\n",
       "      <th>d_email</th>\n",
       "    </tr>\n",
       "  </thead>\n",
       "  <tbody>\n",
       "    <tr>\n",
       "      <th>111</th>\n",
       "      <td>ANAMARIASALVATIERRA.@HOTMAIL.COM</td>\n",
       "    </tr>\n",
       "  </tbody>\n",
       "</table>\n",
       "</div>"
      ],
      "text/plain": [
       "                              d_email\n",
       "111  ANAMARIASALVATIERRA.@HOTMAIL.COM"
      ]
     },
     "execution_count": 3,
     "metadata": {},
     "output_type": "execute_result"
    }
   ],
   "source": [
    "BD_PILOTO[BD_PILOTO['d_email']=='ANAMARIASALVATIERRA.@HOTMAIL.COM']"
   ]
  },
  {
   "cell_type": "code",
   "execution_count": 19,
   "metadata": {},
   "outputs": [
    {
     "data": {
      "text/plain": [
       "['UV 56 MZ.39 BRR.LA COSTANERA',\n",
       " 'VAKITA.LY@GMAIL.COM',\n",
       " 'VALE.CENTAL@GMAIL.COM',\n",
       " 'VALECITA.QJ5@GMAIL.COM',\n",
       " 'VALELORNA.ESTRADA@GMAIL.COM']"
      ]
     },
     "execution_count": 19,
     "metadata": {},
     "output_type": "execute_result"
    }
   ],
   "source": [
    "clientes_correos[1780:1785]"
   ]
  },
  {
   "cell_type": "code",
   "execution_count": 5,
   "metadata": {},
   "outputs": [
    {
     "data": {
      "text/plain": [
       "'ESTEFANI_M_@HOTMAIL.COM'"
      ]
     },
     "execution_count": 5,
     "metadata": {},
     "output_type": "execute_result"
    }
   ],
   "source": [
    "clientes_correos=list(BD_PILOTO['d_email'])\n",
    "#for i in BD_PILOTO['d_email']:\n",
    "#    print(i)\n",
    "clientes_correos=clientes_correos + ['ronaldpiterleo5@hotmail.com','marco.antonio.vino@gmail.com','marco_v_ch@hotmail.com','gmeridalujan@gmail.com','SSanchez@Credifondosafi.com.bo']\n",
    "clientes_correos[0]='ESTEFANI_M_@HOTMAIL.COM'\n",
    "clientes_correos[0]\n",
    "#for i in clientes_correos:\n",
    "#    print(i=='.ESTEFANI_M_@HOTMAIL.COM')\n",
    "#clientes_correos=='.ESTEFANI_M_@HOTMAIL.COM'"
   ]
  },
  {
   "cell_type": "code",
   "execution_count": 11,
   "metadata": {},
   "outputs": [
    {
     "data": {
      "text/plain": [
       "['VICTORHUGOPAZHURTADO@GMAIL.COM',\n",
       " 'VICTOR_AC22@HOTMAIL.COM',\n",
       " 'VIDANGOSA@HOTMAIL.COM',\n",
       " 'VIER_VALE@HOTMAIL.COM',\n",
       " 'VIFUEME@HOTMAIL.COM',\n",
       " 'VIKI2802@HOTMAIL.COM',\n",
       " 'VILLEGAS49@GMAIL.COM',\n",
       " 'VIODAVTO@GMAIL.COM',\n",
       " 'VIOLIN.PAGANINI.20@GMAIL.COM']"
      ]
     },
     "execution_count": 11,
     "metadata": {},
     "output_type": "execute_result"
    }
   ],
   "source": [
    "clientes_correos[1806]='VICTORHUGOPAZHURTADO@GMAIL.COM'\n",
    "clientes_correos[1806:1815]"
   ]
  },
  {
   "cell_type": "markdown",
   "metadata": {},
   "source": [
    "## Envio de Mensaje CFO"
   ]
  },
  {
   "cell_type": "code",
   "execution_count": 18,
   "metadata": {},
   "outputs": [
    {
     "data": {
      "text/plain": [
       "['GMerida@bcp.com.bo',\n",
       " 'gmeridalujan@gmail.com',\n",
       " 'marco.antonio.vino@gmail.com',\n",
       " 'marco_v_ch@hotmail.com',\n",
       " 'ronaldpiterleo5@hotmail.com']"
      ]
     },
     "execution_count": 18,
     "metadata": {},
     "output_type": "execute_result"
    }
   ],
   "source": [
    "# Pruebas de envios\n",
    "\n",
    "clientes_correos=['GMerida@bcp.com.bo','gmeridalujan@gmail.com','marco.antonio.vino@gmail.com','marco_v_ch@hotmail.com','ronaldpiterleo5@hotmail.com']\n",
    "clientes_correos\n",
    "\n",
    "#list(BD_PILOTO['d_email'].to_numpy())"
   ]
  },
  {
   "cell_type": "code",
   "execution_count": 12,
   "metadata": {},
   "outputs": [],
   "source": [
    "strFrom = 'BolComunBcp@bcp.com.bo'\n",
    "\n",
    "#clientes_correos=['elizardoperez0000@gmail.com','jlmedina2405@gmail.com']+['GMerida@bcp.com.bo','gmeridalujan@gmail.com','marco.antonio.vino@gmail.com','marco_v_ch@hotmail.com','ronaldpiterleo5@hotmail.com']#['AVera@bcp.com.bo','RFlores@bcp.com.bo','MAVino@bcp.com.bo','CToledo@bcp.com.bo','gmerida@bcp.com.bo','SSanchez@Credifondosafi.com.bo','GRivera@Credifondosafi.com.bo']\n",
    "\n",
    "for i in clientes_correos[1806:1893]:\n",
    "\n",
    "    strTo = i\n",
    "\n",
    "    # Create the root message \n",
    "\n",
    "    msgRoot = MIMEMultipart('related')\n",
    "    msgRoot['Subject'] = 'Credifondo SAFI S.A. Tiene un mensaje para ti...'\n",
    "    msgRoot['From'] = strFrom\n",
    "    msgRoot['To'] = strTo\n",
    "    #msgRoot['Cc'] =cc\n",
    "    msgRoot.preamble = 'Multi-part message in MIME format.'\n",
    "\n",
    "    msgAlternative = MIMEMultipart('alternative')\n",
    "    msgRoot.attach(msgAlternative)\n",
    "\n",
    "    msgText = MIMEText('Alternative plain text message.')\n",
    "    msgAlternative.attach(msgText)\n",
    "\n",
    "    msgText = MIMEText('<img src=\"cid:image1\"><br>', 'html')\n",
    "    msgAlternative.attach(msgText)\n",
    "\n",
    "    #Attach Image \n",
    "    fp = open(r'D:\\Guillermo\\Credifondo_Proyecto\\General\\PYTHON\\IMAGEN_FIN.png', 'rb') #Read image \n",
    "    msgImage = MIMEImage(fp.read())\n",
    "    fp.close()\n",
    "\n",
    "    # Define the image's ID as referenced above\n",
    "    msgImage.add_header('Content-ID', '<image1>')\n",
    "    msgRoot.attach(msgImage)\n",
    "\n",
    "    smtp = smtplib.SMTP()\n",
    "    smtp.connect('btbexc00',25) #SMTp Server Details\n",
    "    smtp.login(r'BTBNET\\BolRecomTrj', 'B0Lrenc0mTrj@') #Username and Password of Account\n",
    "    smtp.sendmail(strFrom, strTo, msgRoot.as_string())\n",
    "    smtp.quit()"
   ]
  }
 ],
 "metadata": {
  "kernelspec": {
   "display_name": "Python 3.9.12 ('base')",
   "language": "python",
   "name": "python3"
  },
  "language_info": {
   "codemirror_mode": {
    "name": "ipython",
    "version": 3
   },
   "file_extension": ".py",
   "mimetype": "text/x-python",
   "name": "python",
   "nbconvert_exporter": "python",
   "pygments_lexer": "ipython3",
   "version": "3.9.12"
  },
  "orig_nbformat": 4,
  "vscode": {
   "interpreter": {
    "hash": "e42634819b8c191a5d07eaf23810ff32516dd8d3875f28ec3e488928fbd3c187"
   }
  }
 },
 "nbformat": 4,
 "nbformat_minor": 2
}
